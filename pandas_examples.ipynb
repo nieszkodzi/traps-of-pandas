{
 "cells": [
  {
   "metadata": {},
   "cell_type": "markdown",
   "source": "# Traps of using pandas",
   "id": "3bbfb42d71925d7a"
  },
  {
   "metadata": {
    "ExecuteTime": {
     "end_time": "2024-12-11T03:58:20.863268Z",
     "start_time": "2024-12-11T03:58:20.861491Z"
    }
   },
   "cell_type": "code",
   "source": [
    "import pandas as pd\n",
    "import numpy as np\n",
    "import time"
   ],
   "id": "8e560828dca83b2d",
   "outputs": [],
   "execution_count": 87
  },
  {
   "metadata": {},
   "cell_type": "markdown",
   "source": "#### Dates",
   "id": "85c211b73eeef4c4"
  },
  {
   "metadata": {
    "ExecuteTime": {
     "end_time": "2024-12-11T04:07:55.176354Z",
     "start_time": "2024-12-11T04:07:55.172710Z"
    }
   },
   "cell_type": "code",
   "source": [
    "# Datetime format is always consider to be index...\n",
    "list_of_dates = ['03/01/2021', '01/14/2021', '01/05/2021']\n",
    "date_series = pd.to_datetime(list_of_dates)\n",
    "date_series"
   ],
   "id": "928af462963335f3",
   "outputs": [
    {
     "data": {
      "text/plain": [
       "DatetimeIndex(['2021-03-01', '2021-01-14', '2021-01-05'], dtype='datetime64[ns]', freq=None)"
      ]
     },
     "execution_count": 106,
     "metadata": {},
     "output_type": "execute_result"
    }
   ],
   "execution_count": 106
  },
  {
   "metadata": {},
   "cell_type": "markdown",
   "source": "#### Memory of Pandas",
   "id": "eae16bdd9e55b1d7"
  },
  {
   "metadata": {
    "ExecuteTime": {
     "end_time": "2024-12-11T01:20:29.463854Z",
     "start_time": "2024-12-11T01:20:29.457833Z"
    }
   },
   "cell_type": "code",
   "source": [
    "# By default, Pandas always assigns the highest memory datatype to columns. This can be a problem when working with large datasets.\n",
    "df = pd.DataFrame({'A': [1, 2, 3, 4, 5]})\n",
    "df.dtypes"
   ],
   "id": "c2931064a700916a",
   "outputs": [
    {
     "data": {
      "text/plain": [
       "A    int64\n",
       "dtype: object"
      ]
     },
     "execution_count": 2,
     "metadata": {},
     "output_type": "execute_result"
    }
   ],
   "execution_count": 2
  },
  {
   "metadata": {
    "ExecuteTime": {
     "end_time": "2024-12-11T01:20:32.084293Z",
     "start_time": "2024-12-11T01:20:32.081227Z"
    }
   },
   "cell_type": "code",
   "source": "df.A.memory_usage()",
   "id": "8f3a497f580bd103",
   "outputs": [
    {
     "data": {
      "text/plain": [
       "172"
      ]
     },
     "execution_count": 3,
     "metadata": {},
     "output_type": "execute_result"
    }
   ],
   "execution_count": 3
  },
  {
   "metadata": {
    "ExecuteTime": {
     "end_time": "2024-12-11T01:20:33.454500Z",
     "start_time": "2024-12-11T01:20:33.451249Z"
    }
   },
   "cell_type": "code",
   "source": [
    "df['A'] = df['A'].astype('int8')\n",
    "df.A.memory_usage()"
   ],
   "id": "b5e3b8be6176233f",
   "outputs": [
    {
     "data": {
      "text/plain": [
       "137"
      ]
     },
     "execution_count": 4,
     "metadata": {},
     "output_type": "execute_result"
    }
   ],
   "execution_count": 4
  },
  {
   "metadata": {
    "ExecuteTime": {
     "end_time": "2024-12-11T01:20:37.431052Z",
     "start_time": "2024-12-11T01:20:37.426884Z"
    }
   },
   "cell_type": "code",
   "source": "datalake_df = pd.read_csv('from_datalake.csv')",
   "id": "1f36cce4829a76eb",
   "outputs": [],
   "execution_count": 5
  },
  {
   "metadata": {
    "ExecuteTime": {
     "end_time": "2024-12-11T01:20:39.189324Z",
     "start_time": "2024-12-11T01:20:39.184165Z"
    }
   },
   "cell_type": "code",
   "source": "datalake_df",
   "id": "7b9a12f328cf57ef",
   "outputs": [
    {
     "data": {
      "text/plain": [
       "           date    product              source   spends    factor  \\\n",
       "0    2024-01-01  product_1  source_1_product_1  1476304  0.323865   \n",
       "1    2023-02-01  product_1  source_2_product_1  2465434  0.336918   \n",
       "2    2024-07-01  product_1  source_1_product_1  1013569  0.439816   \n",
       "3    2024-03-01  product_1  source_1_product_1  1685347  0.292835   \n",
       "4    2024-05-01  product_1  source_2_product_1  4049280  0.245055   \n",
       "..          ...        ...                 ...      ...       ...   \n",
       "520  2024-06-01  product_2  source_4_product_3    65824  0.171763   \n",
       "521  2024-09-01  product_2  source_6_product_3  1451735  0.174637   \n",
       "522  2024-11-01  product_2  source_6_product_3    33171  0.256530   \n",
       "523  2023-02-01  product_2  source_4_product_3    75732  0.177700   \n",
       "524  2023-09-01  product_2  source_4_product_3    89415  0.177657   \n",
       "\n",
       "       received_at  \n",
       "0    1733098377843  \n",
       "1    1733098377844  \n",
       "2    1733098377843  \n",
       "3    1733098377843  \n",
       "4    1733098377844  \n",
       "..             ...  \n",
       "520  1733098378012  \n",
       "521  1733098378011  \n",
       "522  1733098378011  \n",
       "523  1733098378012  \n",
       "524  1733098378012  \n",
       "\n",
       "[525 rows x 6 columns]"
      ],
      "text/html": [
       "<div>\n",
       "<style scoped>\n",
       "    .dataframe tbody tr th:only-of-type {\n",
       "        vertical-align: middle;\n",
       "    }\n",
       "\n",
       "    .dataframe tbody tr th {\n",
       "        vertical-align: top;\n",
       "    }\n",
       "\n",
       "    .dataframe thead th {\n",
       "        text-align: right;\n",
       "    }\n",
       "</style>\n",
       "<table border=\"1\" class=\"dataframe\">\n",
       "  <thead>\n",
       "    <tr style=\"text-align: right;\">\n",
       "      <th></th>\n",
       "      <th>date</th>\n",
       "      <th>product</th>\n",
       "      <th>source</th>\n",
       "      <th>spends</th>\n",
       "      <th>factor</th>\n",
       "      <th>received_at</th>\n",
       "    </tr>\n",
       "  </thead>\n",
       "  <tbody>\n",
       "    <tr>\n",
       "      <th>0</th>\n",
       "      <td>2024-01-01</td>\n",
       "      <td>product_1</td>\n",
       "      <td>source_1_product_1</td>\n",
       "      <td>1476304</td>\n",
       "      <td>0.323865</td>\n",
       "      <td>1733098377843</td>\n",
       "    </tr>\n",
       "    <tr>\n",
       "      <th>1</th>\n",
       "      <td>2023-02-01</td>\n",
       "      <td>product_1</td>\n",
       "      <td>source_2_product_1</td>\n",
       "      <td>2465434</td>\n",
       "      <td>0.336918</td>\n",
       "      <td>1733098377844</td>\n",
       "    </tr>\n",
       "    <tr>\n",
       "      <th>2</th>\n",
       "      <td>2024-07-01</td>\n",
       "      <td>product_1</td>\n",
       "      <td>source_1_product_1</td>\n",
       "      <td>1013569</td>\n",
       "      <td>0.439816</td>\n",
       "      <td>1733098377843</td>\n",
       "    </tr>\n",
       "    <tr>\n",
       "      <th>3</th>\n",
       "      <td>2024-03-01</td>\n",
       "      <td>product_1</td>\n",
       "      <td>source_1_product_1</td>\n",
       "      <td>1685347</td>\n",
       "      <td>0.292835</td>\n",
       "      <td>1733098377843</td>\n",
       "    </tr>\n",
       "    <tr>\n",
       "      <th>4</th>\n",
       "      <td>2024-05-01</td>\n",
       "      <td>product_1</td>\n",
       "      <td>source_2_product_1</td>\n",
       "      <td>4049280</td>\n",
       "      <td>0.245055</td>\n",
       "      <td>1733098377844</td>\n",
       "    </tr>\n",
       "    <tr>\n",
       "      <th>...</th>\n",
       "      <td>...</td>\n",
       "      <td>...</td>\n",
       "      <td>...</td>\n",
       "      <td>...</td>\n",
       "      <td>...</td>\n",
       "      <td>...</td>\n",
       "    </tr>\n",
       "    <tr>\n",
       "      <th>520</th>\n",
       "      <td>2024-06-01</td>\n",
       "      <td>product_2</td>\n",
       "      <td>source_4_product_3</td>\n",
       "      <td>65824</td>\n",
       "      <td>0.171763</td>\n",
       "      <td>1733098378012</td>\n",
       "    </tr>\n",
       "    <tr>\n",
       "      <th>521</th>\n",
       "      <td>2024-09-01</td>\n",
       "      <td>product_2</td>\n",
       "      <td>source_6_product_3</td>\n",
       "      <td>1451735</td>\n",
       "      <td>0.174637</td>\n",
       "      <td>1733098378011</td>\n",
       "    </tr>\n",
       "    <tr>\n",
       "      <th>522</th>\n",
       "      <td>2024-11-01</td>\n",
       "      <td>product_2</td>\n",
       "      <td>source_6_product_3</td>\n",
       "      <td>33171</td>\n",
       "      <td>0.256530</td>\n",
       "      <td>1733098378011</td>\n",
       "    </tr>\n",
       "    <tr>\n",
       "      <th>523</th>\n",
       "      <td>2023-02-01</td>\n",
       "      <td>product_2</td>\n",
       "      <td>source_4_product_3</td>\n",
       "      <td>75732</td>\n",
       "      <td>0.177700</td>\n",
       "      <td>1733098378012</td>\n",
       "    </tr>\n",
       "    <tr>\n",
       "      <th>524</th>\n",
       "      <td>2023-09-01</td>\n",
       "      <td>product_2</td>\n",
       "      <td>source_4_product_3</td>\n",
       "      <td>89415</td>\n",
       "      <td>0.177657</td>\n",
       "      <td>1733098378012</td>\n",
       "    </tr>\n",
       "  </tbody>\n",
       "</table>\n",
       "<p>525 rows × 6 columns</p>\n",
       "</div>"
      ]
     },
     "execution_count": 6,
     "metadata": {},
     "output_type": "execute_result"
    }
   ],
   "execution_count": 6
  },
  {
   "metadata": {
    "ExecuteTime": {
     "end_time": "2024-12-11T01:07:37.677014Z",
     "start_time": "2024-12-11T01:07:16.359116Z"
    }
   },
   "cell_type": "code",
   "outputs": [
    {
     "data": {
      "text/plain": [
       "   Iteration      Size  Run_time\n",
       "0        1.0     525.0  0.002975\n",
       "1        2.0    1050.0  0.004342\n",
       "2        3.0    2100.0  0.008492\n",
       "3        4.0    4200.0  0.016587\n",
       "4        5.0    8400.0  0.035308\n",
       "5        6.0   16800.0  0.068936\n",
       "6        7.0   33600.0  0.137443\n",
       "7        8.0   67200.0  0.260515\n",
       "8        9.0  134400.0  0.524878\n",
       "9       10.0  268800.0  1.071239"
      ],
      "text/html": [
       "<div>\n",
       "<style scoped>\n",
       "    .dataframe tbody tr th:only-of-type {\n",
       "        vertical-align: middle;\n",
       "    }\n",
       "\n",
       "    .dataframe tbody tr th {\n",
       "        vertical-align: top;\n",
       "    }\n",
       "\n",
       "    .dataframe thead th {\n",
       "        text-align: right;\n",
       "    }\n",
       "</style>\n",
       "<table border=\"1\" class=\"dataframe\">\n",
       "  <thead>\n",
       "    <tr style=\"text-align: right;\">\n",
       "      <th></th>\n",
       "      <th>Iteration</th>\n",
       "      <th>Size</th>\n",
       "      <th>Run_time</th>\n",
       "    </tr>\n",
       "  </thead>\n",
       "  <tbody>\n",
       "    <tr>\n",
       "      <th>0</th>\n",
       "      <td>1.0</td>\n",
       "      <td>525.0</td>\n",
       "      <td>0.002975</td>\n",
       "    </tr>\n",
       "    <tr>\n",
       "      <th>1</th>\n",
       "      <td>2.0</td>\n",
       "      <td>1050.0</td>\n",
       "      <td>0.004342</td>\n",
       "    </tr>\n",
       "    <tr>\n",
       "      <th>2</th>\n",
       "      <td>3.0</td>\n",
       "      <td>2100.0</td>\n",
       "      <td>0.008492</td>\n",
       "    </tr>\n",
       "    <tr>\n",
       "      <th>3</th>\n",
       "      <td>4.0</td>\n",
       "      <td>4200.0</td>\n",
       "      <td>0.016587</td>\n",
       "    </tr>\n",
       "    <tr>\n",
       "      <th>4</th>\n",
       "      <td>5.0</td>\n",
       "      <td>8400.0</td>\n",
       "      <td>0.035308</td>\n",
       "    </tr>\n",
       "    <tr>\n",
       "      <th>5</th>\n",
       "      <td>6.0</td>\n",
       "      <td>16800.0</td>\n",
       "      <td>0.068936</td>\n",
       "    </tr>\n",
       "    <tr>\n",
       "      <th>6</th>\n",
       "      <td>7.0</td>\n",
       "      <td>33600.0</td>\n",
       "      <td>0.137443</td>\n",
       "    </tr>\n",
       "    <tr>\n",
       "      <th>7</th>\n",
       "      <td>8.0</td>\n",
       "      <td>67200.0</td>\n",
       "      <td>0.260515</td>\n",
       "    </tr>\n",
       "    <tr>\n",
       "      <th>8</th>\n",
       "      <td>9.0</td>\n",
       "      <td>134400.0</td>\n",
       "      <td>0.524878</td>\n",
       "    </tr>\n",
       "    <tr>\n",
       "      <th>9</th>\n",
       "      <td>10.0</td>\n",
       "      <td>268800.0</td>\n",
       "      <td>1.071239</td>\n",
       "    </tr>\n",
       "  </tbody>\n",
       "</table>\n",
       "</div>"
      ]
     },
     "execution_count": 51,
     "metadata": {},
     "output_type": "execute_result"
    }
   ],
   "execution_count": 51,
   "source": [
    "def apply_func(row):\n",
    "    return row.spends + row.factor\n",
    "\n",
    "new_df = datalake_df[['spends', 'factor']]\n",
    "run_time_df = pd.DataFrame(columns = [\"Iteration\", \"Size\", \"Run_time\"])\n",
    "runs = 10\n",
    "\n",
    "for i in range(runs):\n",
    "    run_time_sum = 0\n",
    "\n",
    "    for _ in range(runs):\n",
    "        start = time.time()\n",
    "        temp = new_df.apply(apply_func, axis = 1)\n",
    "        end = time.time()\n",
    "\n",
    "        run_time_sum += end-start\n",
    "\n",
    "    run_time_df.loc[i] = [i+1, new_df.shape[0], run_time_sum/runs]\n",
    "    new_df = pd.concat((new_df, new_df))\n",
    "\n",
    "run_time_df"
   ],
   "id": "dfc7fb9b4a787d"
  },
  {
   "metadata": {
    "ExecuteTime": {
     "end_time": "2024-12-11T01:20:42.664482Z",
     "start_time": "2024-12-11T01:20:42.658732Z"
    }
   },
   "cell_type": "code",
   "outputs": [
    {
     "name": "stdout",
     "output_type": "stream",
     "text": [
      "<class 'pandas.core.frame.DataFrame'>\n",
      "RangeIndex: 525 entries, 0 to 524\n",
      "Data columns (total 6 columns):\n",
      " #   Column       Non-Null Count  Dtype  \n",
      "---  ------       --------------  -----  \n",
      " 0   date         525 non-null    object \n",
      " 1   product      525 non-null    object \n",
      " 2   source       525 non-null    object \n",
      " 3   spends       525 non-null    int64  \n",
      " 4   factor       525 non-null    float64\n",
      " 5   received_at  525 non-null    int64  \n",
      "dtypes: float64(1), int64(2), object(3)\n",
      "memory usage: 24.7+ KB\n"
     ]
    }
   ],
   "execution_count": 7,
   "source": "datalake_df.info()",
   "id": "120322e2a293a6cf"
  },
  {
   "metadata": {
    "ExecuteTime": {
     "end_time": "2024-12-11T01:21:05.495515Z",
     "start_time": "2024-12-11T01:21:05.489039Z"
    }
   },
   "cell_type": "code",
   "outputs": [],
   "execution_count": 8,
   "source": [
    "# Convert 'date' column to datetime\n",
    "datalake_df['date'] = pd.to_datetime(datalake_df['date'], format='%Y-%m-%d')\n",
    "\n",
    "# Set 'date' column as index\n",
    "datalake_df.set_index('date', inplace=True)\n",
    "\n",
    "# Convert 'product' and 'source' columns to categorical dtype\n",
    "datalake_df['product'] = datalake_df['product'].astype('category')\n",
    "datalake_df['source'] = datalake_df['source'].astype('category')\n",
    "\n",
    "# Convert 'received_at' column to delta time\n",
    "datalake_df['received_at'] = pd.to_timedelta(datalake_df['received_at'])"
   ],
   "id": "44a8531bee94b8c"
  },
  {
   "metadata": {
    "ExecuteTime": {
     "end_time": "2024-12-11T02:16:57.160214Z",
     "start_time": "2024-12-11T02:16:57.154439Z"
    }
   },
   "cell_type": "code",
   "outputs": [
    {
     "name": "stdout",
     "output_type": "stream",
     "text": [
      "<class 'pandas.core.frame.DataFrame'>\n",
      "DatetimeIndex: 525 entries, 2024-01-01 to 2023-09-01\n",
      "Data columns (total 5 columns):\n",
      " #   Column       Non-Null Count  Dtype          \n",
      "---  ------       --------------  -----          \n",
      " 0   product      525 non-null    category       \n",
      " 1   source       525 non-null    category       \n",
      " 2   spends       525 non-null    int64          \n",
      " 3   factor       525 non-null    float64        \n",
      " 4   received_at  525 non-null    timedelta64[ns]\n",
      "dtypes: category(2), float64(1), int64(1), timedelta64[ns](1)\n",
      "memory usage: 18.2 KB\n"
     ]
    }
   ],
   "execution_count": 31,
   "source": [
    "# Amount of memory used by the dataframe decreased because of the conversion of 'product' and 'source' columns to categorical dtype. Category dtype is a fixed-size datatype which is more memory efficient than object dtype because it stores the categories separately and uses integer values to represent the categories.\n",
    "datalake_df.info()"
   ],
   "id": "2dc07df588a851f3"
  },
  {
   "metadata": {},
   "cell_type": "markdown",
   "source": "#### Indexing",
   "id": "90fd629193c10cad"
  },
  {
   "metadata": {
    "ExecuteTime": {
     "end_time": "2024-12-11T04:14:31.551241Z",
     "start_time": "2024-12-11T04:14:31.548067Z"
    }
   },
   "cell_type": "code",
   "source": "datalake_df.loc['2024-12-01', 'product']",
   "id": "9bb134c08e72a48c",
   "outputs": [
    {
     "data": {
      "text/plain": [
       "'product_1'"
      ]
     },
     "execution_count": 108,
     "metadata": {},
     "output_type": "execute_result"
    }
   ],
   "execution_count": 108
  },
  {
   "metadata": {
    "ExecuteTime": {
     "end_time": "2024-12-11T04:14:53.651746Z",
     "start_time": "2024-12-11T04:14:53.648477Z"
    }
   },
   "cell_type": "code",
   "source": "datalake_df.iloc[0, 0]",
   "id": "214f5157b8b4276f",
   "outputs": [
    {
     "data": {
      "text/plain": [
       "'product_1'"
      ]
     },
     "execution_count": 109,
     "metadata": {},
     "output_type": "execute_result"
    }
   ],
   "execution_count": 109
  },
  {
   "metadata": {
    "ExecuteTime": {
     "end_time": "2024-12-11T04:15:19.942Z",
     "start_time": "2024-12-11T04:15:19.938816Z"
    }
   },
   "cell_type": "code",
   "source": "datalake_df['product'][0]",
   "id": "139d570a4b0098a7",
   "outputs": [
    {
     "name": "stderr",
     "output_type": "stream",
     "text": [
      "/var/folders/3y/__tmjg9s5wq_rd9fl2dtqqx80000gn/T/ipykernel_41495/4132577024.py:1: FutureWarning: Series.__getitem__ treating keys as positions is deprecated. In a future version, integer keys will always be treated as labels (consistent with DataFrame behavior). To access a value by position, use `ser.iloc[pos]`\n",
      "  datalake_df['product'][0]\n"
     ]
    },
    {
     "data": {
      "text/plain": [
       "'product_1'"
      ]
     },
     "execution_count": 110,
     "metadata": {},
     "output_type": "execute_result"
    }
   ],
   "execution_count": 110
  },
  {
   "metadata": {
    "ExecuteTime": {
     "end_time": "2024-12-11T04:16:52.731514Z",
     "start_time": "2024-12-11T04:16:52.728627Z"
    }
   },
   "cell_type": "code",
   "source": "datalake_df['product']['2024-12-01']",
   "id": "63abeb9e6c1910e0",
   "outputs": [
    {
     "data": {
      "text/plain": [
       "'product_1'"
      ]
     },
     "execution_count": 111,
     "metadata": {},
     "output_type": "execute_result"
    }
   ],
   "execution_count": 111
  },
  {
   "metadata": {},
   "cell_type": "markdown",
   "source": "#### Storing and Accessing Values",
   "id": "c4823e119223eabf"
  },
  {
   "metadata": {
    "ExecuteTime": {
     "end_time": "2024-12-11T02:13:52.886333Z",
     "start_time": "2024-12-11T02:13:52.881532Z"
    }
   },
   "cell_type": "code",
   "outputs": [
    {
     "data": {
      "text/plain": [
       "array(['product_1', 'product_1', 'product_1', 'product_1', 'product_1'],\n",
       "      dtype=object)"
      ]
     },
     "execution_count": 25,
     "metadata": {},
     "output_type": "execute_result"
    }
   ],
   "execution_count": 25,
   "source": [
    "# When we are trying to access the values of the 'product' and 'factor' columns, we can see that the data type is 'object' even though we converted them.\n",
    "datalake_df.values[:5, 0]"
   ],
   "id": "9a608d390310462a"
  },
  {
   "metadata": {
    "ExecuteTime": {
     "end_time": "2024-12-11T02:14:38.788051Z",
     "start_time": "2024-12-11T02:14:38.783684Z"
    }
   },
   "cell_type": "code",
   "outputs": [
    {
     "data": {
      "text/plain": [
       "array([0.3238645161290322, 0.3369178571428571, 0.4398161290322581,\n",
       "       0.2928354838709677, 0.2450548387096774], dtype=object)"
      ]
     },
     "execution_count": 26,
     "metadata": {},
     "output_type": "execute_result"
    }
   ],
   "execution_count": 26,
   "source": "datalake_df.values[:5, 3]",
   "id": "e60d39c3ea57810"
  },
  {
   "metadata": {
    "ExecuteTime": {
     "end_time": "2024-12-11T02:23:20.985988Z",
     "start_time": "2024-12-11T02:23:20.983540Z"
    }
   },
   "cell_type": "code",
   "outputs": [
    {
     "data": {
      "text/plain": [
       "dtype('O')"
      ]
     },
     "execution_count": 42,
     "metadata": {},
     "output_type": "execute_result"
    }
   ],
   "execution_count": 42,
   "source": [
    "# Now we can access the values of the 'product' and 'factor' columns differently and check the datetype.\n",
    "datalake_df[['product']].values[:5].dtype"
   ],
   "id": "b21f297ba443281a"
  },
  {
   "metadata": {
    "ExecuteTime": {
     "end_time": "2024-12-11T02:23:35.799819Z",
     "start_time": "2024-12-11T02:23:35.796795Z"
    }
   },
   "cell_type": "code",
   "outputs": [
    {
     "data": {
      "text/plain": [
       "dtype('float64')"
      ]
     },
     "execution_count": 44,
     "metadata": {},
     "output_type": "execute_result"
    }
   ],
   "execution_count": 44,
   "source": "datalake_df[['factor']].values[:5].dtype",
   "id": "923780f50bac29b6"
  },
  {
   "metadata": {
    "ExecuteTime": {
     "end_time": "2024-12-11T02:39:56.601678Z",
     "start_time": "2024-12-11T02:39:56.596841Z"
    }
   },
   "cell_type": "code",
   "outputs": [
    {
     "name": "stdout",
     "output_type": "stream",
     "text": [
      "0.3238645161290322\n",
      "0.3238645161290322\n"
     ]
    }
   ],
   "execution_count": 46,
   "source": [
    "# We can now try to replace some value in the 'factor' column using these methods.\n",
    "print(datalake_df.values[0, 3])\n",
    "datalake_df.values[0, 3] = 0.5\n",
    "print(datalake_df.values[0, 3])"
   ],
   "id": "fe16fb851e582feb"
  },
  {
   "metadata": {
    "ExecuteTime": {
     "end_time": "2024-12-11T02:41:06.336231Z",
     "start_time": "2024-12-11T02:41:06.333871Z"
    }
   },
   "cell_type": "code",
   "outputs": [
    {
     "name": "stdout",
     "output_type": "stream",
     "text": [
      "0.5\n"
     ]
    }
   ],
   "execution_count": 49,
   "source": [
    "datalake_df['factor'].values[0] = 0.5\n",
    "print(datalake_df['factor'].values[0])"
   ],
   "id": "ba228b5cfbd7410f"
  },
  {
   "metadata": {
    "ExecuteTime": {
     "end_time": "2024-12-11T02:46:57.726059Z",
     "start_time": "2024-12-11T02:46:57.723826Z"
    }
   },
   "cell_type": "code",
   "outputs": [],
   "execution_count": 56,
   "source": [
    "only_float_df = pd.DataFrame({'A': [1.0, 2.0, 3.0, 4.0, 5.0], \n",
    "                              'B': [1.0, 2.0, 3.0, 4.0, 5.0]})"
   ],
   "id": "3ace8c8e4ed3500f"
  },
  {
   "metadata": {
    "ExecuteTime": {
     "end_time": "2024-12-11T02:45:46.287694Z",
     "start_time": "2024-12-11T02:45:46.282505Z"
    }
   },
   "cell_type": "code",
   "outputs": [
    {
     "data": {
      "text/plain": [
       "     A    B\n",
       "0  1.0  1.0\n",
       "1  2.0  2.0\n",
       "2  3.0  3.0\n",
       "3  4.0  4.0\n",
       "4  5.0  5.0"
      ],
      "text/html": [
       "<div>\n",
       "<style scoped>\n",
       "    .dataframe tbody tr th:only-of-type {\n",
       "        vertical-align: middle;\n",
       "    }\n",
       "\n",
       "    .dataframe tbody tr th {\n",
       "        vertical-align: top;\n",
       "    }\n",
       "\n",
       "    .dataframe thead th {\n",
       "        text-align: right;\n",
       "    }\n",
       "</style>\n",
       "<table border=\"1\" class=\"dataframe\">\n",
       "  <thead>\n",
       "    <tr style=\"text-align: right;\">\n",
       "      <th></th>\n",
       "      <th>A</th>\n",
       "      <th>B</th>\n",
       "    </tr>\n",
       "  </thead>\n",
       "  <tbody>\n",
       "    <tr>\n",
       "      <th>0</th>\n",
       "      <td>1.0</td>\n",
       "      <td>1.0</td>\n",
       "    </tr>\n",
       "    <tr>\n",
       "      <th>1</th>\n",
       "      <td>2.0</td>\n",
       "      <td>2.0</td>\n",
       "    </tr>\n",
       "    <tr>\n",
       "      <th>2</th>\n",
       "      <td>3.0</td>\n",
       "      <td>3.0</td>\n",
       "    </tr>\n",
       "    <tr>\n",
       "      <th>3</th>\n",
       "      <td>4.0</td>\n",
       "      <td>4.0</td>\n",
       "    </tr>\n",
       "    <tr>\n",
       "      <th>4</th>\n",
       "      <td>5.0</td>\n",
       "      <td>5.0</td>\n",
       "    </tr>\n",
       "  </tbody>\n",
       "</table>\n",
       "</div>"
      ]
     },
     "execution_count": 51,
     "metadata": {},
     "output_type": "execute_result"
    }
   ],
   "execution_count": 51,
   "source": "only_float_df",
   "id": "408d2a3b4b36b336"
  },
  {
   "metadata": {
    "ExecuteTime": {
     "end_time": "2024-12-11T02:47:09.444811Z",
     "start_time": "2024-12-11T02:47:09.440316Z"
    }
   },
   "cell_type": "code",
   "outputs": [
    {
     "name": "stdout",
     "output_type": "stream",
     "text": [
      "<class 'pandas.core.frame.DataFrame'>\n",
      "RangeIndex: 5 entries, 0 to 4\n",
      "Data columns (total 2 columns):\n",
      " #   Column  Non-Null Count  Dtype  \n",
      "---  ------  --------------  -----  \n",
      " 0   A       5 non-null      float64\n",
      " 1   B       5 non-null      float64\n",
      "dtypes: float64(2)\n",
      "memory usage: 212.0 bytes\n"
     ]
    }
   ],
   "execution_count": 57,
   "source": "only_float_df.info()",
   "id": "9820cb028120a424"
  },
  {
   "metadata": {
    "ExecuteTime": {
     "end_time": "2024-12-11T02:46:44.331645Z",
     "start_time": "2024-12-11T02:46:44.329211Z"
    }
   },
   "cell_type": "code",
   "outputs": [
    {
     "name": "stdout",
     "output_type": "stream",
     "text": [
      "1.0\n",
      "0.5\n"
     ]
    }
   ],
   "execution_count": 55,
   "source": [
    "print(only_float_df.values[0, 0])\n",
    "only_float_df.values[0, 0] = 0.5\n",
    "print(only_float_df.values[0, 0])"
   ],
   "id": "92293bdb6c35ce7e"
  },
  {
   "metadata": {
    "ExecuteTime": {
     "end_time": "2024-12-11T02:51:15.472557Z",
     "start_time": "2024-12-11T02:51:15.470326Z"
    }
   },
   "cell_type": "code",
   "outputs": [],
   "execution_count": 58,
   "source": "only_float_df['B'] = only_float_df['B'].astype('int8')",
   "id": "8d81c5f32be6673f"
  },
  {
   "metadata": {
    "ExecuteTime": {
     "end_time": "2024-12-11T02:51:20.557450Z",
     "start_time": "2024-12-11T02:51:20.551656Z"
    }
   },
   "cell_type": "code",
   "outputs": [
    {
     "name": "stdout",
     "output_type": "stream",
     "text": [
      "<class 'pandas.core.frame.DataFrame'>\n",
      "RangeIndex: 5 entries, 0 to 4\n",
      "Data columns (total 2 columns):\n",
      " #   Column  Non-Null Count  Dtype  \n",
      "---  ------  --------------  -----  \n",
      " 0   A       5 non-null      float64\n",
      " 1   B       5 non-null      int8   \n",
      "dtypes: float64(1), int8(1)\n",
      "memory usage: 177.0 bytes\n"
     ]
    }
   ],
   "execution_count": 59,
   "source": "only_float_df.info()",
   "id": "ea0270753137318c"
  },
  {
   "metadata": {
    "ExecuteTime": {
     "end_time": "2024-12-11T02:51:49.445575Z",
     "start_time": "2024-12-11T02:51:49.442886Z"
    }
   },
   "cell_type": "code",
   "outputs": [
    {
     "name": "stdout",
     "output_type": "stream",
     "text": [
      "1.0\n",
      "1.0\n"
     ]
    }
   ],
   "execution_count": 60,
   "source": [
    "print(only_float_df.values[0, 0])\n",
    "only_float_df.values[0, 0] = 0.9\n",
    "print(only_float_df.values[0, 0])"
   ],
   "id": "464e290026f5d068"
  },
  {
   "metadata": {},
   "cell_type": "markdown",
   "source": "#### Iterating over DataFrame rows",
   "id": "211e8aa4db67705b"
  },
  {
   "metadata": {
    "ExecuteTime": {
     "end_time": "2024-12-11T03:07:26.795020Z",
     "start_time": "2024-12-11T03:07:26.791434Z"
    }
   },
   "cell_type": "code",
   "outputs": [
    {
     "data": {
      "text/plain": [
       "pandas.core.series.Series"
      ]
     },
     "execution_count": 65,
     "metadata": {},
     "output_type": "execute_result"
    }
   ],
   "execution_count": 65,
   "source": "type(datalake_df.iloc[0])",
   "id": "a31eee24c0e93094"
  },
  {
   "metadata": {
    "ExecuteTime": {
     "end_time": "2024-12-11T03:04:39.921162Z",
     "start_time": "2024-12-11T03:04:39.918979Z"
    }
   },
   "cell_type": "code",
   "outputs": [
    {
     "name": "stdout",
     "output_type": "stream",
     "text": [
      "(Timestamp('2024-01-01 00:00:00'), product                        product_1\n",
      "source                source_1_product_1\n",
      "spends                           1476304\n",
      "factor                               0.5\n",
      "received_at    0 days 00:28:53.098377843\n",
      "Name: 2024-01-01 00:00:00, dtype: object)\n",
      "<class 'pandas.core.series.Series'>\n"
     ]
    }
   ],
   "execution_count": 63,
   "source": [
    "# Iterating over DataFrame rows using iterrows() returns an iterator that yields index and row data as a Series which is mutable, but not recommended as there's no guarantee that replacement of values will work.\n",
    "for row in datalake_df[:1].iterrows():\n",
    "    print(row)\n",
    "    print(type(row[1]))"
   ],
   "id": "83db5e9160053ded"
  },
  {
   "metadata": {
    "ExecuteTime": {
     "end_time": "2024-12-11T03:06:08.340537Z",
     "start_time": "2024-12-11T03:06:08.337881Z"
    }
   },
   "cell_type": "code",
   "outputs": [
    {
     "name": "stdout",
     "output_type": "stream",
     "text": [
      "Pandas(Index=Timestamp('2024-01-01 00:00:00'), product='product_1', source='source_1_product_1', spends=1476304, factor=0.5, received_at=Timedelta('0 days 00:28:53.098377843'))\n",
      "<class 'pandas.core.frame.Pandas'>\n"
     ]
    }
   ],
   "execution_count": 64,
   "source": [
    "# Iterating over DataFrame rows using itertuples() returns an iterator that yields namedtuples of the values in each row, which is faster than iterrows() and is recommended for performance. Tuple values are immutable which is good, because pandas is not meant to be used for non-vectorized operations.\n",
    "for row in datalake_df[:1].itertuples():\n",
    "    print(row)\n",
    "    print(type(row))"
   ],
   "id": "e9597c97a3c17523"
  },
  {
   "metadata": {},
   "cell_type": "markdown",
   "source": "#### Add a new column and a new row in the DataFrame and check the time.",
   "id": "a617f9007452e6cc"
  },
  {
   "metadata": {
    "ExecuteTime": {
     "end_time": "2024-12-11T03:15:00.195916Z",
     "start_time": "2024-12-11T03:15:00.193569Z"
    }
   },
   "cell_type": "code",
   "outputs": [
    {
     "name": "stdout",
     "output_type": "stream",
     "text": [
      "Time taken to add a new column: 0.0003509521484375\n"
     ]
    }
   ],
   "execution_count": 66,
   "source": [
    "# Add a new column\n",
    "start = time.time()\n",
    "datalake_df['new_column'] = 0\n",
    "end = time.time()\n",
    "print(f\"Time taken to add a new column: {end-start}\")"
   ],
   "id": "cfc6c6ec7740576c"
  },
  {
   "metadata": {
    "ExecuteTime": {
     "end_time": "2024-12-11T03:18:13.234157Z",
     "start_time": "2024-12-11T03:18:13.230625Z"
    }
   },
   "cell_type": "code",
   "outputs": [
    {
     "name": "stdout",
     "output_type": "stream",
     "text": [
      "Time taken to add a new row: 0.0011162757873535156\n"
     ]
    }
   ],
   "execution_count": 69,
   "source": [
    "# Add a new row\n",
    "start = time.time()\n",
    "datalake_df.loc[pd.to_datetime('2024-12-01'), :] = ['product_1', 'source_1_product_1', 1500, 0.5, pd.to_timedelta('00:00:00'), 0]\n",
    "end = time.time()\n",
    "print(f\"Time taken to add a new row: {end-start}\")"
   ],
   "id": "d9221dd8ac158110"
  },
  {
   "metadata": {},
   "cell_type": "markdown",
   "source": "#### Saving and Reading Data in CSV",
   "id": "22f93445349d330e"
  },
  {
   "metadata": {
    "ExecuteTime": {
     "end_time": "2024-12-11T03:45:42.637514Z",
     "start_time": "2024-12-11T03:45:42.630409Z"
    }
   },
   "cell_type": "code",
   "source": [
    "# Save the dataframe to a new CSV file\n",
    "start = time.time()\n",
    "datalake_df.to_csv('datalake_df.csv', index=False)\n",
    "end = time.time()\n",
    "print(f\"Time taken to save the dataframe: {end-start}\")"
   ],
   "id": "23e6fbc30826ac4",
   "outputs": [
    {
     "name": "stdout",
     "output_type": "stream",
     "text": [
      "Time taken to save the dataframe: 0.005197763442993164\n"
     ]
    }
   ],
   "execution_count": 73
  },
  {
   "metadata": {
    "ExecuteTime": {
     "end_time": "2024-12-11T03:45:44.649014Z",
     "start_time": "2024-12-11T03:45:44.519750Z"
    }
   },
   "cell_type": "code",
   "source": [
    "# Show the size of the CSV file\n",
    "!ls -lh datalake_df.csv"
   ],
   "id": "7aa8e846147510c2",
   "outputs": [
    {
     "name": "stdout",
     "output_type": "stream",
     "text": [
      "-rw-r--r--  1 nataliaziemba-jankowska  staff    43K Dec 11 04:45 datalake_df.csv\r\n"
     ]
    }
   ],
   "execution_count": 74
  },
  {
   "metadata": {
    "ExecuteTime": {
     "end_time": "2024-12-11T03:45:48.176904Z",
     "start_time": "2024-12-11T03:45:48.172505Z"
    }
   },
   "cell_type": "code",
   "source": [
    "# Read the dataframe from the CSV file\n",
    "start = time.time()\n",
    "datalake_df_from_csv = pd.read_csv('datalake_df.csv')\n",
    "end = time.time()\n",
    "print(f\"Time taken to read the dataframe: {end - start}\")"
   ],
   "id": "a45a9c7ac7162ac0",
   "outputs": [
    {
     "name": "stdout",
     "output_type": "stream",
     "text": [
      "Time taken to read the dataframe: 0.002218008041381836\n"
     ]
    }
   ],
   "execution_count": 75
  },
  {
   "metadata": {
    "ExecuteTime": {
     "end_time": "2024-12-11T01:24:17.464619Z",
     "start_time": "2024-12-11T01:24:17.458275Z"
    }
   },
   "cell_type": "code",
   "outputs": [
    {
     "name": "stdout",
     "output_type": "stream",
     "text": [
      "<class 'pandas.core.frame.DataFrame'>\n",
      "RangeIndex: 525 entries, 0 to 524\n",
      "Data columns (total 5 columns):\n",
      " #   Column       Non-Null Count  Dtype  \n",
      "---  ------       --------------  -----  \n",
      " 0   product      525 non-null    object \n",
      " 1   source       525 non-null    object \n",
      " 2   spends       525 non-null    int64  \n",
      " 3   factor       525 non-null    float64\n",
      " 4   received_at  525 non-null    object \n",
      "dtypes: float64(1), int64(1), object(3)\n",
      "memory usage: 20.6+ KB\n"
     ]
    }
   ],
   "execution_count": 12,
   "source": "datalake_df_from_csv.info()",
   "id": "7edc67d8ff82392c"
  },
  {
   "metadata": {},
   "cell_type": "markdown",
   "source": "#### Saving and Reading Data in Feather",
   "id": "43359f57d379f75f"
  },
  {
   "metadata": {
    "ExecuteTime": {
     "end_time": "2024-12-11T01:25:57.377117Z",
     "start_time": "2024-12-11T01:25:57.331749Z"
    }
   },
   "cell_type": "code",
   "outputs": [
    {
     "name": "stdout",
     "output_type": "stream",
     "text": [
      "Time taken to save the dataframe: 0.04310297966003418\n"
     ]
    }
   ],
   "execution_count": 14,
   "source": [
    "# Save the dataframe to a feather file\n",
    "start = time.time()\n",
    "datalake_df.to_feather('datalake_df.feather')\n",
    "end = time.time()\n",
    "print(f\"Time taken to save the dataframe: {end-start}\")"
   ],
   "id": "8cb5003dae6d350d"
  },
  {
   "metadata": {
    "ExecuteTime": {
     "end_time": "2024-12-11T01:40:44.450802Z",
     "start_time": "2024-12-11T01:40:44.332245Z"
    }
   },
   "cell_type": "code",
   "outputs": [
    {
     "name": "stdout",
     "output_type": "stream",
     "text": [
      "-rw-r--r--  1 nataliaziemba-jankowska  staff    13K Dec 11 02:25 datalake_df.feather\r\n"
     ]
    }
   ],
   "execution_count": 18,
   "source": [
    "# Show the size of the feather file\n",
    "!ls -lh datalake_df.feather"
   ],
   "id": "68e71eab2c15e19f"
  },
  {
   "metadata": {
    "ExecuteTime": {
     "end_time": "2024-12-11T01:35:41.630569Z",
     "start_time": "2024-12-11T01:35:41.623550Z"
    }
   },
   "cell_type": "code",
   "outputs": [
    {
     "name": "stdout",
     "output_type": "stream",
     "text": [
      "Time taken to read the dataframe: 0.004857778549194336\n"
     ]
    }
   ],
   "execution_count": 15,
   "source": [
    "# Read the dataframe from the feather file\n",
    "start = time.time()\n",
    "datalake_df_from_feather = pd.read_feather('datalake_df.feather')\n",
    "end = time.time()\n",
    "print(f\"Time taken to read the dataframe: {end - start}\")"
   ],
   "id": "2d3ecbc9ca25713a"
  },
  {
   "metadata": {
    "ExecuteTime": {
     "end_time": "2024-12-11T01:35:54.986591Z",
     "start_time": "2024-12-11T01:35:54.979422Z"
    }
   },
   "cell_type": "code",
   "outputs": [
    {
     "name": "stdout",
     "output_type": "stream",
     "text": [
      "<class 'pandas.core.frame.DataFrame'>\n",
      "DatetimeIndex: 525 entries, 2024-01-01 to 2023-09-01\n",
      "Data columns (total 5 columns):\n",
      " #   Column       Non-Null Count  Dtype          \n",
      "---  ------       --------------  -----          \n",
      " 0   product      525 non-null    category       \n",
      " 1   source       525 non-null    category       \n",
      " 2   spends       525 non-null    int64          \n",
      " 3   factor       525 non-null    float64        \n",
      " 4   received_at  525 non-null    timedelta64[ns]\n",
      "dtypes: category(2), float64(1), int64(1), timedelta64[ns](1)\n",
      "memory usage: 18.2 KB\n"
     ]
    }
   ],
   "execution_count": 16,
   "source": "datalake_df_from_feather.info()",
   "id": "5d7de984239d5082"
  },
  {
   "metadata": {},
   "cell_type": "markdown",
   "source": "#### Saving and Reading Data in Parquet",
   "id": "62b05accb4e461bf"
  },
  {
   "metadata": {
    "ExecuteTime": {
     "end_time": "2024-12-11T01:43:13.229484Z",
     "start_time": "2024-12-11T01:43:13.198245Z"
    }
   },
   "cell_type": "code",
   "outputs": [
    {
     "name": "stdout",
     "output_type": "stream",
     "text": [
      "Time taken to save the dataframe: 0.029036998748779297\n"
     ]
    }
   ],
   "execution_count": 19,
   "source": [
    "# Save the dataframe to a parquet file\n",
    "start = time.time()\n",
    "datalake_df.to_parquet('datalake_df.parquet')\n",
    "end = time.time()\n",
    "print(f\"Time taken to save the dataframe: {end-start}\")"
   ],
   "id": "612a6ced84d1b132"
  },
  {
   "metadata": {
    "ExecuteTime": {
     "end_time": "2024-12-11T01:43:25.592287Z",
     "start_time": "2024-12-11T01:43:25.469420Z"
    }
   },
   "cell_type": "code",
   "outputs": [
    {
     "name": "stdout",
     "output_type": "stream",
     "text": [
      "-rw-r--r--  1 nataliaziemba-jankowska  staff    12K Dec 11 02:43 datalake_df.parquet\r\n"
     ]
    }
   ],
   "execution_count": 20,
   "source": [
    "# Show the size of the parquet file\n",
    "!ls -lh datalake_df.parquet"
   ],
   "id": "7714dbf91070b69"
  },
  {
   "metadata": {
    "ExecuteTime": {
     "end_time": "2024-12-11T01:43:49.081802Z",
     "start_time": "2024-12-11T01:43:49.000527Z"
    }
   },
   "cell_type": "code",
   "outputs": [
    {
     "name": "stdout",
     "output_type": "stream",
     "text": [
      "Time taken to read the dataframe: 0.07878279685974121\n"
     ]
    }
   ],
   "execution_count": 21,
   "source": [
    "# Read the dataframe from the parquet file\n",
    "start = time.time()\n",
    "datalake_df_from_parquet = pd.read_parquet('datalake_df.parquet')\n",
    "end = time.time()\n",
    "print(f\"Time taken to read the dataframe: {end - start}\")"
   ],
   "id": "e33515507957016a"
  },
  {
   "metadata": {
    "ExecuteTime": {
     "end_time": "2024-12-11T01:44:05.573844Z",
     "start_time": "2024-12-11T01:44:05.567451Z"
    }
   },
   "cell_type": "code",
   "outputs": [
    {
     "name": "stdout",
     "output_type": "stream",
     "text": [
      "<class 'pandas.core.frame.DataFrame'>\n",
      "DatetimeIndex: 525 entries, 2024-01-01 to 2023-09-01\n",
      "Data columns (total 5 columns):\n",
      " #   Column       Non-Null Count  Dtype          \n",
      "---  ------       --------------  -----          \n",
      " 0   product      525 non-null    category       \n",
      " 1   source       525 non-null    category       \n",
      " 2   spends       525 non-null    int64          \n",
      " 3   factor       525 non-null    float64        \n",
      " 4   received_at  525 non-null    timedelta64[ns]\n",
      "dtypes: category(2), float64(1), int64(1), timedelta64[ns](1)\n",
      "memory usage: 18.2 KB\n"
     ]
    }
   ],
   "execution_count": 22,
   "source": "datalake_df_from_parquet.info()",
   "id": "89fe67cc337730c8"
  },
  {
   "metadata": {},
   "cell_type": "markdown",
   "source": "##### There is no inherent multi-threading support available in Pandas so it will always stick to a single core utilization — leading to increased run-time, which is proportional to the size of the data.",
   "id": "5ed8324d69e69266"
  },
  {
   "metadata": {},
   "cell_type": "markdown",
   "source": [
    "### Groupby with Categorical dtype\n",
    "When using a Categorical grouper (as a single grouper, or as part of multiple groupers), the observed keyword controls whether to return a cartesian product of all possible groupers values (observed=False) or only those that are observed groupers (observed=True)."
   ],
   "id": "e05d9ba575bb4c64"
  },
  {
   "metadata": {
    "ExecuteTime": {
     "end_time": "2024-12-11T03:55:58.134413Z",
     "start_time": "2024-12-11T03:55:58.130246Z"
    }
   },
   "cell_type": "code",
   "source": "datalake_df[:5]",
   "id": "98c100fda1786645",
   "outputs": [
    {
     "data": {
      "text/plain": [
       "              product              source     spends    factor  \\\n",
       "date                                                             \n",
       "2024-01-01  product_1  source_1_product_1  1476304.0  0.500000   \n",
       "2023-02-01  product_1  source_2_product_1  2465434.0  0.336918   \n",
       "2024-07-01  product_1  source_1_product_1  1013569.0  0.439816   \n",
       "2024-03-01  product_1  source_1_product_1  1685347.0  0.292835   \n",
       "2024-05-01  product_1  source_2_product_1  4049280.0  0.245055   \n",
       "\n",
       "                         received_at  new_column  \n",
       "date                                              \n",
       "2024-01-01 0 days 00:28:53.098377843         0.0  \n",
       "2023-02-01 0 days 00:28:53.098377844         0.0  \n",
       "2024-07-01 0 days 00:28:53.098377843         0.0  \n",
       "2024-03-01 0 days 00:28:53.098377843         0.0  \n",
       "2024-05-01 0 days 00:28:53.098377844         0.0  "
      ],
      "text/html": [
       "<div>\n",
       "<style scoped>\n",
       "    .dataframe tbody tr th:only-of-type {\n",
       "        vertical-align: middle;\n",
       "    }\n",
       "\n",
       "    .dataframe tbody tr th {\n",
       "        vertical-align: top;\n",
       "    }\n",
       "\n",
       "    .dataframe thead th {\n",
       "        text-align: right;\n",
       "    }\n",
       "</style>\n",
       "<table border=\"1\" class=\"dataframe\">\n",
       "  <thead>\n",
       "    <tr style=\"text-align: right;\">\n",
       "      <th></th>\n",
       "      <th>product</th>\n",
       "      <th>source</th>\n",
       "      <th>spends</th>\n",
       "      <th>factor</th>\n",
       "      <th>received_at</th>\n",
       "      <th>new_column</th>\n",
       "    </tr>\n",
       "    <tr>\n",
       "      <th>date</th>\n",
       "      <th></th>\n",
       "      <th></th>\n",
       "      <th></th>\n",
       "      <th></th>\n",
       "      <th></th>\n",
       "      <th></th>\n",
       "    </tr>\n",
       "  </thead>\n",
       "  <tbody>\n",
       "    <tr>\n",
       "      <th>2024-01-01</th>\n",
       "      <td>product_1</td>\n",
       "      <td>source_1_product_1</td>\n",
       "      <td>1476304.0</td>\n",
       "      <td>0.500000</td>\n",
       "      <td>0 days 00:28:53.098377843</td>\n",
       "      <td>0.0</td>\n",
       "    </tr>\n",
       "    <tr>\n",
       "      <th>2023-02-01</th>\n",
       "      <td>product_1</td>\n",
       "      <td>source_2_product_1</td>\n",
       "      <td>2465434.0</td>\n",
       "      <td>0.336918</td>\n",
       "      <td>0 days 00:28:53.098377844</td>\n",
       "      <td>0.0</td>\n",
       "    </tr>\n",
       "    <tr>\n",
       "      <th>2024-07-01</th>\n",
       "      <td>product_1</td>\n",
       "      <td>source_1_product_1</td>\n",
       "      <td>1013569.0</td>\n",
       "      <td>0.439816</td>\n",
       "      <td>0 days 00:28:53.098377843</td>\n",
       "      <td>0.0</td>\n",
       "    </tr>\n",
       "    <tr>\n",
       "      <th>2024-03-01</th>\n",
       "      <td>product_1</td>\n",
       "      <td>source_1_product_1</td>\n",
       "      <td>1685347.0</td>\n",
       "      <td>0.292835</td>\n",
       "      <td>0 days 00:28:53.098377843</td>\n",
       "      <td>0.0</td>\n",
       "    </tr>\n",
       "    <tr>\n",
       "      <th>2024-05-01</th>\n",
       "      <td>product_1</td>\n",
       "      <td>source_2_product_1</td>\n",
       "      <td>4049280.0</td>\n",
       "      <td>0.245055</td>\n",
       "      <td>0 days 00:28:53.098377844</td>\n",
       "      <td>0.0</td>\n",
       "    </tr>\n",
       "  </tbody>\n",
       "</table>\n",
       "</div>"
      ]
     },
     "execution_count": 82,
     "metadata": {},
     "output_type": "execute_result"
    }
   ],
   "execution_count": 82
  },
  {
   "metadata": {
    "ExecuteTime": {
     "end_time": "2024-12-11T03:56:14.548222Z",
     "start_time": "2024-12-11T03:56:14.545892Z"
    }
   },
   "cell_type": "code",
   "source": "grouped_observed_false_df = datalake_df[:10].groupby(['product', 'source'])",
   "id": "dac5deeb68c2f9bd",
   "outputs": [
    {
     "name": "stderr",
     "output_type": "stream",
     "text": [
      "/var/folders/3y/__tmjg9s5wq_rd9fl2dtqqx80000gn/T/ipykernel_41495/823797064.py:1: FutureWarning: The default of observed=False is deprecated and will be changed to True in a future version of pandas. Pass observed=False to retain current behavior or observed=True to adopt the future default and silence this warning.\n",
      "  grouped_observed_false_df = datalake_df[:10].groupby(['product', 'source'])\n"
     ]
    }
   ],
   "execution_count": 83
  },
  {
   "metadata": {
    "ExecuteTime": {
     "end_time": "2024-12-11T03:56:17.758983Z",
     "start_time": "2024-12-11T03:56:17.756441Z"
    }
   },
   "cell_type": "code",
   "source": "grouped_observed_true_df = datalake_df[:10].groupby(['product', 'source'], observed=True)",
   "id": "213b4c5a171995f9",
   "outputs": [],
   "execution_count": 84
  },
  {
   "metadata": {
    "ExecuteTime": {
     "end_time": "2024-12-11T03:56:29.902157Z",
     "start_time": "2024-12-11T03:56:29.898642Z"
    }
   },
   "cell_type": "code",
   "source": [
    "# Calculate the sum of the 'spends' column for each group\n",
    "start = time.time()\n",
    "grouped_observed_false_df['spends'].sum()\n",
    "end = time.time()\n",
    "print(f\"Time taken to calculate the sum of the 'spends' column for each group: {end-start}\")"
   ],
   "id": "29e0f0fc46eb4949",
   "outputs": [
    {
     "name": "stdout",
     "output_type": "stream",
     "text": [
      "Time taken to calculate the sum of the 'spends' column for each group: 0.0013301372528076172\n"
     ]
    }
   ],
   "execution_count": 85
  },
  {
   "metadata": {
    "ExecuteTime": {
     "end_time": "2024-12-11T03:56:50.088258Z",
     "start_time": "2024-12-11T03:56:50.085253Z"
    }
   },
   "cell_type": "code",
   "source": [
    "start = time.time()\n",
    "grouped_observed_true_df['spends'].sum()\n",
    "end = time.time()\n",
    "print(f\"Time taken to calculate the sum of the 'spends' column for each group: {end-start}\")"
   ],
   "id": "7519cbd5deefce93",
   "outputs": [
    {
     "name": "stdout",
     "output_type": "stream",
     "text": [
      "Time taken to calculate the sum of the 'spends' column for each group: 0.0007140636444091797\n"
     ]
    }
   ],
   "execution_count": 86
  },
  {
   "metadata": {
    "ExecuteTime": {
     "end_time": "2024-12-11T04:01:28.327901Z",
     "start_time": "2024-12-11T04:01:28.293673Z"
    }
   },
   "cell_type": "code",
   "source": [
    "# Create a DataFrame with a Categorical columns, 'A' and 'B' with 100 unique categories each and third column 'C' with random values\n",
    "df = pd.DataFrame({'A': pd.Categorical([f'A{i}' for i in range(500)]*500),\n",
    "                   'B': pd.Categorical([f'B{i}' for i in range(500)]*500),\n",
    "                   'C': np.random.rand(250000)})"
   ],
   "id": "de69de1e8e80770",
   "outputs": [],
   "execution_count": 95
  },
  {
   "metadata": {
    "ExecuteTime": {
     "end_time": "2024-12-11T04:01:41.846605Z",
     "start_time": "2024-12-11T04:01:41.842728Z"
    }
   },
   "cell_type": "code",
   "source": "df.head()",
   "id": "d4fa54e2ae21c3be",
   "outputs": [
    {
     "data": {
      "text/plain": [
       "    A   B         C\n",
       "0  A0  B0  0.316452\n",
       "1  A1  B1  0.919302\n",
       "2  A2  B2  0.354673\n",
       "3  A3  B3  0.737664\n",
       "4  A4  B4  0.574394"
      ],
      "text/html": [
       "<div>\n",
       "<style scoped>\n",
       "    .dataframe tbody tr th:only-of-type {\n",
       "        vertical-align: middle;\n",
       "    }\n",
       "\n",
       "    .dataframe tbody tr th {\n",
       "        vertical-align: top;\n",
       "    }\n",
       "\n",
       "    .dataframe thead th {\n",
       "        text-align: right;\n",
       "    }\n",
       "</style>\n",
       "<table border=\"1\" class=\"dataframe\">\n",
       "  <thead>\n",
       "    <tr style=\"text-align: right;\">\n",
       "      <th></th>\n",
       "      <th>A</th>\n",
       "      <th>B</th>\n",
       "      <th>C</th>\n",
       "    </tr>\n",
       "  </thead>\n",
       "  <tbody>\n",
       "    <tr>\n",
       "      <th>0</th>\n",
       "      <td>A0</td>\n",
       "      <td>B0</td>\n",
       "      <td>0.316452</td>\n",
       "    </tr>\n",
       "    <tr>\n",
       "      <th>1</th>\n",
       "      <td>A1</td>\n",
       "      <td>B1</td>\n",
       "      <td>0.919302</td>\n",
       "    </tr>\n",
       "    <tr>\n",
       "      <th>2</th>\n",
       "      <td>A2</td>\n",
       "      <td>B2</td>\n",
       "      <td>0.354673</td>\n",
       "    </tr>\n",
       "    <tr>\n",
       "      <th>3</th>\n",
       "      <td>A3</td>\n",
       "      <td>B3</td>\n",
       "      <td>0.737664</td>\n",
       "    </tr>\n",
       "    <tr>\n",
       "      <th>4</th>\n",
       "      <td>A4</td>\n",
       "      <td>B4</td>\n",
       "      <td>0.574394</td>\n",
       "    </tr>\n",
       "  </tbody>\n",
       "</table>\n",
       "</div>"
      ]
     },
     "execution_count": 97,
     "metadata": {},
     "output_type": "execute_result"
    }
   ],
   "execution_count": 97
  },
  {
   "metadata": {
    "ExecuteTime": {
     "end_time": "2024-12-11T04:01:47.044387Z",
     "start_time": "2024-12-11T04:01:47.042107Z"
    }
   },
   "cell_type": "code",
   "source": "grouped_observed_false_df = df[:10].groupby(['A', 'B'])",
   "id": "cbd5a58597f5b468",
   "outputs": [
    {
     "name": "stderr",
     "output_type": "stream",
     "text": [
      "/var/folders/3y/__tmjg9s5wq_rd9fl2dtqqx80000gn/T/ipykernel_41495/3809492748.py:1: FutureWarning: The default of observed=False is deprecated and will be changed to True in a future version of pandas. Pass observed=False to retain current behavior or observed=True to adopt the future default and silence this warning.\n",
      "  grouped_observed_false_df = df[:10].groupby(['A', 'B'])\n"
     ]
    }
   ],
   "execution_count": 98
  },
  {
   "metadata": {
    "ExecuteTime": {
     "end_time": "2024-12-11T04:01:49.023643Z",
     "start_time": "2024-12-11T04:01:49.020651Z"
    }
   },
   "cell_type": "code",
   "source": "grouped_observed_true_df = df[:10].groupby(['A', 'B'], observed=True)",
   "id": "4153c6ebe9a50b36",
   "outputs": [],
   "execution_count": 99
  },
  {
   "metadata": {
    "ExecuteTime": {
     "end_time": "2024-12-11T04:02:01.026961Z",
     "start_time": "2024-12-11T04:02:01.016378Z"
    }
   },
   "cell_type": "code",
   "source": [
    "# Calculate the sum of the 'C' column for each group\n",
    "start = time.time()\n",
    "grouped_observed_false_df['C'].sum()\n",
    "end = time.time()\n",
    "print(f\"Time taken to calculate the sum of the 'C' column for each group: {end-start}\")"
   ],
   "id": "e29ce65be8486c36",
   "outputs": [
    {
     "name": "stdout",
     "output_type": "stream",
     "text": [
      "Time taken to calculate the sum of the 'C' column for each group: 0.008615255355834961\n"
     ]
    }
   ],
   "execution_count": 101
  },
  {
   "metadata": {
    "ExecuteTime": {
     "end_time": "2024-12-11T04:01:57.709505Z",
     "start_time": "2024-12-11T04:01:57.706508Z"
    }
   },
   "cell_type": "code",
   "source": [
    "start = time.time()\n",
    "grouped_observed_true_df['C'].sum()\n",
    "end = time.time()\n",
    "print(f\"Time taken to calculate the sum of the 'C' column for each group: {end-start}\")"
   ],
   "id": "98c49c263849af80",
   "outputs": [
    {
     "name": "stdout",
     "output_type": "stream",
     "text": [
      "Time taken to calculate the sum of the 'C' column for each group: 0.0006411075592041016\n"
     ]
    }
   ],
   "execution_count": 100
  }
 ],
 "metadata": {
  "kernelspec": {
   "display_name": "Python 3",
   "language": "python",
   "name": "python3"
  },
  "language_info": {
   "codemirror_mode": {
    "name": "ipython",
    "version": 2
   },
   "file_extension": ".py",
   "mimetype": "text/x-python",
   "name": "python",
   "nbconvert_exporter": "python",
   "pygments_lexer": "ipython2",
   "version": "2.7.6"
  }
 },
 "nbformat": 4,
 "nbformat_minor": 5
}
